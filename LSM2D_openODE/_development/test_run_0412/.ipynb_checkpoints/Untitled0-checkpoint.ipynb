{
 "metadata": {
  "name": "",
  "signature": "sha256:bd3ed842b650f5b32fe6687401a3c81f1310268c047b9d2e8b40b5d25976678b"
 },
 "nbformat": 3,
 "nbformat_minor": 0,
 "worksheets": [
  {
   "cells": [
    {
     "cell_type": "heading",
     "level": 1,
     "metadata": {},
     "source": [
      "Domain & problem initialization"
     ]
    },
    {
     "cell_type": "code",
     "collapsed": false,
     "input": [
      "# mymain.py\n",
      "\n",
      "import numpy as np\n",
      "#import scipy as sp\n",
      "import LinE as LinE # module of linE of my own\n",
      "import Sensitivity as Sens\n",
      "from slsm_Module import *\n",
      "#import matplotlib.pyplot as plt\n",
      "\n",
      "from openmdao.api import Component, Group, IndepVarComp, Problem\n",
      "\n",
      "# 0. setup\n",
      "AllowedAreaFraction = 0.01\n",
      "moveLimit = 0.9\n",
      "maxTime = 200\n",
      "minArea = 0.5 \n",
      "VoidMaterial = 1e-6\n",
      " \n",
      "# 1. Define domains\n",
      "lxy = [160,80]\n",
      "exy = [160,80]\n",
      "CMesh = LinE.FEAMeshQ4(lxy,exy)\n",
      "mesh  = slsm.Mesh(exy[0],exy[1],False)\n",
      "meshArea = exy[0]*exy[1]\n",
      "\n",
      "Holes = slsm.vector__Holes__()\n",
      "Holes.append(slsm.Hole(16, 14, 5))\n",
      "Holes.append(slsm.Hole(32, 27, 5))\n",
      "Holes.append(slsm.Hole(48, 14, 5))\n",
      "Holes.append(slsm.Hole(64, 27, 5))\n",
      "Holes.append(slsm.Hole(80, 14, 5))\n",
      "Holes.append(slsm.Hole(96, 27, 5))\n",
      "Holes.append(slsm.Hole(112, 14, 5))\n",
      "Holes.append(slsm.Hole(128, 27, 5))\n",
      "Holes.append(slsm.Hole(144, 14, 5))\n",
      "Holes.append(slsm.Hole(16, 40, 5))\n",
      "Holes.append(slsm.Hole(32, 53, 5))\n",
      "Holes.append(slsm.Hole(48, 40, 5))\n",
      "Holes.append(slsm.Hole(64, 53, 5))\n",
      "Holes.append(slsm.Hole(80, 40, 5))\n",
      "Holes.append(slsm.Hole(96, 53, 5))\n",
      "Holes.append(slsm.Hole(112, 40, 5))\n",
      "Holes.append(slsm.Hole(128, 53, 5))\n",
      "Holes.append(slsm.Hole(144, 40, 5))\n",
      "Holes.append(slsm.Hole(16, 66, 5))\n",
      "Holes.append(slsm.Hole(48, 66, 5))\n",
      "Holes.append(slsm.Hole(80, 66, 5))\n",
      "Holes.append(slsm.Hole(112, 66, 5))\n",
      "Holes.append(slsm.Hole(144, 66, 5))\n",
      "\n",
      "levelSet = slsm.LevelSet(mesh,Holes,moveLimit,6,False) # moveLimit is defined elsewhere\n",
      "levelSet.reinitialise()"
     ],
     "language": "python",
     "metadata": {},
     "outputs": [],
     "prompt_number": 5
    },
    {
     "cell_type": "code",
     "collapsed": false,
     "input": [],
     "language": "python",
     "metadata": {},
     "outputs": []
    },
    {
     "cell_type": "code",
     "collapsed": false,
     "input": [],
     "language": "python",
     "metadata": {},
     "outputs": []
    }
   ],
   "metadata": {}
  }
 ]
}